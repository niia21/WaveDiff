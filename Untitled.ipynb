{
 "cells": [
  {
   "cell_type": "code",
   "execution_count": 1,
   "id": "021aeb52-33b5-49ce-b81d-d797199db0db",
   "metadata": {},
   "outputs": [
    {
     "name": "stdout",
     "output_type": "stream",
     "text": [
      "DWT_IDWT\t\t netG_1300.pth\t      samples_stl10.jpg\n",
      "EMA.py\t\t\t netG_400.pth\t      score_sde\n",
      "LICENSE\t\t\t netG_475.pth\t      test_ddgan.py\n",
      "Untitled.ipynb\t\t netG_600.pth\t      test_wddgan.py\n",
      "__pycache__\t\t pytorch_fid\t      train_ddgan.py\n",
      "assets\t\t\t readme.md\t      train_wddgan.py\n",
      "compute_dataset_stat.py  requirements.txt     utils.py\n",
      "datasets_prep\t\t run.sh\t\t      wddgan_generated_samples\n",
      "diffusion.py\t\t run_ddgan.sh\n",
      "environment.yml\t\t samples_cifar10.jpg\n"
     ]
    }
   ],
   "source": [
    "!ls"
   ]
  },
  {
   "cell_type": "code",
   "execution_count": 3,
   "id": "8034b349-bb06-4fe8-b9df-5d39f4cc15e5",
   "metadata": {},
   "outputs": [
    {
     "name": "stdout",
     "output_type": "stream",
     "text": [
      "Requirement already satisfied: pillow in /usr/local/lib/python3.10/dist-packages (from -r requirements.txt (line 1)) (9.3.0)\n",
      "Collecting matplotlib (from -r requirements.txt (line 2))\n",
      "  Downloading matplotlib-3.10.3-cp310-cp310-manylinux_2_17_x86_64.manylinux2014_x86_64.whl.metadata (11 kB)\n",
      "Collecting tensorboard (from -r requirements.txt (line 3))\n",
      "  Downloading tensorboard-2.19.0-py3-none-any.whl.metadata (1.8 kB)\n",
      "Collecting tensorboardX (from -r requirements.txt (line 4))\n",
      "  Downloading tensorboardx-2.6.4-py3-none-any.whl.metadata (6.2 kB)\n",
      "Collecting lmdb (from -r requirements.txt (line 5))\n",
      "  Downloading lmdb-1.6.2-cp310-cp310-manylinux_2_17_x86_64.manylinux2014_x86_64.whl.metadata (1.1 kB)\n",
      "Collecting scipy (from -r requirements.txt (line 6))\n",
      "  Downloading scipy-1.15.3-cp310-cp310-manylinux_2_17_x86_64.manylinux2014_x86_64.whl.metadata (61 kB)\n",
      "\u001b[2K     \u001b[90m━━━━━━━━━━━━━━━━━━━━━━━━━━━━━━━━━━━━━━━━\u001b[0m \u001b[32m62.0/62.0 kB\u001b[0m \u001b[31m5.0 MB/s\u001b[0m eta \u001b[36m0:00:00\u001b[0m\n",
      "\u001b[?25hCollecting ninja (from -r requirements.txt (line 7))\n",
      "  Downloading ninja-1.11.1.4-py3-none-manylinux_2_12_x86_64.manylinux2010_x86_64.whl.metadata (5.0 kB)\n",
      "Collecting einops (from -r requirements.txt (line 8))\n",
      "  Downloading einops-0.8.1-py3-none-any.whl.metadata (13 kB)\n",
      "Collecting PyWavelets (from -r requirements.txt (line 9))\n",
      "  Downloading pywavelets-1.8.0-cp310-cp310-manylinux_2_17_x86_64.manylinux2014_x86_64.whl.metadata (9.0 kB)\n",
      "Collecting contourpy>=1.0.1 (from matplotlib->-r requirements.txt (line 2))\n",
      "  Downloading contourpy-1.3.2-cp310-cp310-manylinux_2_17_x86_64.manylinux2014_x86_64.whl.metadata (5.5 kB)\n",
      "Collecting cycler>=0.10 (from matplotlib->-r requirements.txt (line 2))\n",
      "  Downloading cycler-0.12.1-py3-none-any.whl.metadata (3.8 kB)\n",
      "Collecting fonttools>=4.22.0 (from matplotlib->-r requirements.txt (line 2))\n",
      "  Downloading fonttools-4.58.4-cp310-cp310-manylinux2014_x86_64.manylinux_2_17_x86_64.whl.metadata (106 kB)\n",
      "\u001b[2K     \u001b[90m━━━━━━━━━━━━━━━━━━━━━━━━━━━━━━━━━━━━━━━\u001b[0m \u001b[32m106.6/106.6 kB\u001b[0m \u001b[31m9.6 MB/s\u001b[0m eta \u001b[36m0:00:00\u001b[0m\n",
      "\u001b[?25hCollecting kiwisolver>=1.3.1 (from matplotlib->-r requirements.txt (line 2))\n",
      "  Downloading kiwisolver-1.4.8-cp310-cp310-manylinux_2_12_x86_64.manylinux2010_x86_64.whl.metadata (6.2 kB)\n",
      "Requirement already satisfied: numpy>=1.23 in /usr/local/lib/python3.10/dist-packages (from matplotlib->-r requirements.txt (line 2)) (1.24.1)\n",
      "Requirement already satisfied: packaging>=20.0 in /usr/local/lib/python3.10/dist-packages (from matplotlib->-r requirements.txt (line 2)) (23.2)\n",
      "Requirement already satisfied: pyparsing>=2.3.1 in /usr/lib/python3/dist-packages (from matplotlib->-r requirements.txt (line 2)) (2.4.7)\n",
      "Requirement already satisfied: python-dateutil>=2.7 in /usr/local/lib/python3.10/dist-packages (from matplotlib->-r requirements.txt (line 2)) (2.8.2)\n",
      "Collecting absl-py>=0.4 (from tensorboard->-r requirements.txt (line 3))\n",
      "  Downloading absl_py-2.3.0-py3-none-any.whl.metadata (2.4 kB)\n",
      "Collecting grpcio>=1.48.2 (from tensorboard->-r requirements.txt (line 3))\n",
      "  Downloading grpcio-1.73.0-cp310-cp310-manylinux_2_17_x86_64.manylinux2014_x86_64.whl.metadata (3.8 kB)\n",
      "Collecting markdown>=2.6.8 (from tensorboard->-r requirements.txt (line 3))\n",
      "  Downloading markdown-3.8-py3-none-any.whl.metadata (5.1 kB)\n",
      "Collecting protobuf!=4.24.0,>=3.19.6 (from tensorboard->-r requirements.txt (line 3))\n",
      "  Downloading protobuf-6.31.1-cp39-abi3-manylinux2014_x86_64.whl.metadata (593 bytes)\n",
      "Requirement already satisfied: setuptools>=41.0.0 in /usr/local/lib/python3.10/dist-packages (from tensorboard->-r requirements.txt (line 3)) (68.2.2)\n",
      "Requirement already satisfied: six>1.9 in /usr/lib/python3/dist-packages (from tensorboard->-r requirements.txt (line 3)) (1.16.0)\n",
      "Collecting tensorboard-data-server<0.8.0,>=0.7.0 (from tensorboard->-r requirements.txt (line 3))\n",
      "  Downloading tensorboard_data_server-0.7.2-py3-none-manylinux_2_31_x86_64.whl.metadata (1.1 kB)\n",
      "Collecting werkzeug>=1.0.1 (from tensorboard->-r requirements.txt (line 3))\n",
      "  Downloading werkzeug-3.1.3-py3-none-any.whl.metadata (3.7 kB)\n",
      "Requirement already satisfied: MarkupSafe>=2.1.1 in /usr/local/lib/python3.10/dist-packages (from werkzeug>=1.0.1->tensorboard->-r requirements.txt (line 3)) (2.1.2)\n",
      "Downloading matplotlib-3.10.3-cp310-cp310-manylinux_2_17_x86_64.manylinux2014_x86_64.whl (8.6 MB)\n",
      "\u001b[2K   \u001b[90m━━━━━━━━━━━━━━━━━━━━━━━━━━━━━━━━━━━━━━━━\u001b[0m \u001b[32m8.6/8.6 MB\u001b[0m \u001b[31m102.8 MB/s\u001b[0m eta \u001b[36m0:00:00\u001b[0m00:01\u001b[0m00:01\u001b[0m\n",
      "\u001b[?25hDownloading tensorboard-2.19.0-py3-none-any.whl (5.5 MB)\n",
      "\u001b[2K   \u001b[90m━━━━━━━━━━━━━━━━━━━━━━━━━━━━━━━━━━━━━━━━\u001b[0m \u001b[32m5.5/5.5 MB\u001b[0m \u001b[31m134.4 MB/s\u001b[0m eta \u001b[36m0:00:00\u001b[0m00:01\u001b[0m\n",
      "\u001b[?25hDownloading tensorboardx-2.6.4-py3-none-any.whl (87 kB)\n",
      "\u001b[2K   \u001b[90m━━━━━━━━━━━━━━━━━━━━━━━━━━━━━━━━━━━━━━━━\u001b[0m \u001b[32m87.2/87.2 kB\u001b[0m \u001b[31m19.7 MB/s\u001b[0m eta \u001b[36m0:00:00\u001b[0m\n",
      "\u001b[?25hDownloading lmdb-1.6.2-cp310-cp310-manylinux_2_17_x86_64.manylinux2014_x86_64.whl (294 kB)\n",
      "\u001b[2K   \u001b[90m━━━━━━━━━━━━━━━━━━━━━━━━━━━━━━━━━━━━━━━━\u001b[0m \u001b[32m294.8/294.8 kB\u001b[0m \u001b[31m57.2 MB/s\u001b[0m eta \u001b[36m0:00:00\u001b[0m\n",
      "\u001b[?25hDownloading scipy-1.15.3-cp310-cp310-manylinux_2_17_x86_64.manylinux2014_x86_64.whl (37.7 MB)\n",
      "\u001b[2K   \u001b[90m━━━━━━━━━━━━━━━━━━━━━━━━━━━━━━━━━━━━━━━━\u001b[0m \u001b[32m37.7/37.7 MB\u001b[0m \u001b[31m83.2 MB/s\u001b[0m eta \u001b[36m0:00:00\u001b[0m:00:01\u001b[0m00:01\u001b[0m\n",
      "\u001b[?25hDownloading ninja-1.11.1.4-py3-none-manylinux_2_12_x86_64.manylinux2010_x86_64.whl (422 kB)\n",
      "\u001b[2K   \u001b[90m━━━━━━━━━━━━━━━━━━━━━━━━━━━━━━━━━━━━━━━━\u001b[0m \u001b[32m422.8/422.8 kB\u001b[0m \u001b[31m67.8 MB/s\u001b[0m eta \u001b[36m0:00:00\u001b[0m\n",
      "\u001b[?25hDownloading einops-0.8.1-py3-none-any.whl (64 kB)\n",
      "\u001b[2K   \u001b[90m━━━━━━━━━━━━━━━━━━━━━━━━━━━━━━━━━━━━━━━━\u001b[0m \u001b[32m64.4/64.4 kB\u001b[0m \u001b[31m14.4 MB/s\u001b[0m eta \u001b[36m0:00:00\u001b[0m\n",
      "\u001b[?25hDownloading pywavelets-1.8.0-cp310-cp310-manylinux_2_17_x86_64.manylinux2014_x86_64.whl (4.5 MB)\n",
      "\u001b[2K   \u001b[90m━━━━━━━━━━━━━━━━━━━━━━━━━━━━━━━━━━━━━━━━\u001b[0m \u001b[32m4.5/4.5 MB\u001b[0m \u001b[31m108.7 MB/s\u001b[0m eta \u001b[36m0:00:00\u001b[0m00:01\u001b[0m\n",
      "\u001b[?25hDownloading absl_py-2.3.0-py3-none-any.whl (135 kB)\n",
      "\u001b[2K   \u001b[90m━━━━━━━━━━━━━━━━━━━━━━━━━━━━━━━━━━━━━━━━\u001b[0m \u001b[32m135.7/135.7 kB\u001b[0m \u001b[31m24.5 MB/s\u001b[0m eta \u001b[36m0:00:00\u001b[0m\n",
      "\u001b[?25hDownloading contourpy-1.3.2-cp310-cp310-manylinux_2_17_x86_64.manylinux2014_x86_64.whl (325 kB)\n",
      "\u001b[2K   \u001b[90m━━━━━━━━━━━━━━━━━━━━━━━━━━━━━━━━━━━━━━━━\u001b[0m \u001b[32m325.0/325.0 kB\u001b[0m \u001b[31m50.4 MB/s\u001b[0m eta \u001b[36m0:00:00\u001b[0m\n",
      "\u001b[?25hDownloading cycler-0.12.1-py3-none-any.whl (8.3 kB)\n",
      "Downloading fonttools-4.58.4-cp310-cp310-manylinux2014_x86_64.manylinux_2_17_x86_64.whl (4.8 MB)\n",
      "\u001b[2K   \u001b[90m━━━━━━━━━━━━━━━━━━━━━━━━━━━━━━━━━━━━━━━━\u001b[0m \u001b[32m4.8/4.8 MB\u001b[0m \u001b[31m96.4 MB/s\u001b[0m eta \u001b[36m0:00:00\u001b[0m:00:01\u001b[0m\n",
      "\u001b[?25hDownloading grpcio-1.73.0-cp310-cp310-manylinux_2_17_x86_64.manylinux2014_x86_64.whl (6.0 MB)\n",
      "\u001b[2K   \u001b[90m━━━━━━━━━━━━━━━━━━━━━━━━━━━━━━━━━━━━━━━━\u001b[0m \u001b[32m6.0/6.0 MB\u001b[0m \u001b[31m147.5 MB/s\u001b[0m eta \u001b[36m0:00:00\u001b[0m00:01\u001b[0m\n",
      "\u001b[?25hDownloading kiwisolver-1.4.8-cp310-cp310-manylinux_2_12_x86_64.manylinux2010_x86_64.whl (1.6 MB)\n",
      "\u001b[2K   \u001b[90m━━━━━━━━━━━━━━━━━━━━━━━━━━━━━━━━━━━━━━━━\u001b[0m \u001b[32m1.6/1.6 MB\u001b[0m \u001b[31m118.4 MB/s\u001b[0m eta \u001b[36m0:00:00\u001b[0m\n",
      "\u001b[?25hDownloading markdown-3.8-py3-none-any.whl (106 kB)\n",
      "\u001b[2K   \u001b[90m━━━━━━━━━━━━━━━━━━━━━━━━━━━━━━━━━━━━━━━━\u001b[0m \u001b[32m106.2/106.2 kB\u001b[0m \u001b[31m26.4 MB/s\u001b[0m eta \u001b[36m0:00:00\u001b[0m\n",
      "\u001b[?25hDownloading protobuf-6.31.1-cp39-abi3-manylinux2014_x86_64.whl (321 kB)\n",
      "\u001b[2K   \u001b[90m━━━━━━━━━━━━━━━━━━━━━━━━━━━━━━━━━━━━━━━━\u001b[0m \u001b[32m321.1/321.1 kB\u001b[0m \u001b[31m62.6 MB/s\u001b[0m eta \u001b[36m0:00:00\u001b[0m\n",
      "\u001b[?25hDownloading tensorboard_data_server-0.7.2-py3-none-manylinux_2_31_x86_64.whl (6.6 MB)\n",
      "\u001b[2K   \u001b[90m━━━━━━━━━━━━━━━━━━━━━━━━━━━━━━━━━━━━━━━━\u001b[0m \u001b[32m6.6/6.6 MB\u001b[0m \u001b[31m130.8 MB/s\u001b[0m eta \u001b[36m0:00:00\u001b[0m00:01\u001b[0m\n",
      "\u001b[?25hDownloading werkzeug-3.1.3-py3-none-any.whl (224 kB)\n",
      "\u001b[2K   \u001b[90m━━━━━━━━━━━━━━━━━━━━━━━━━━━━━━━━━━━━━━━━\u001b[0m \u001b[32m224.5/224.5 kB\u001b[0m \u001b[31m33.7 MB/s\u001b[0m eta \u001b[36m0:00:00\u001b[0m\n",
      "\u001b[?25hInstalling collected packages: lmdb, werkzeug, tensorboard-data-server, scipy, PyWavelets, protobuf, ninja, markdown, kiwisolver, grpcio, fonttools, einops, cycler, contourpy, absl-py, tensorboardX, tensorboard, matplotlib\n",
      "Successfully installed PyWavelets-1.8.0 absl-py-2.3.0 contourpy-1.3.2 cycler-0.12.1 einops-0.8.1 fonttools-4.58.4 grpcio-1.73.0 kiwisolver-1.4.8 lmdb-1.6.2 markdown-3.8 matplotlib-3.10.3 ninja-1.11.1.4 protobuf-6.31.1 scipy-1.15.3 tensorboard-2.19.0 tensorboard-data-server-0.7.2 tensorboardX-2.6.4 werkzeug-3.1.3\n",
      "\u001b[33mWARNING: Running pip as the 'root' user can result in broken permissions and conflicting behaviour with the system package manager. It is recommended to use a virtual environment instead: https://pip.pypa.io/warnings/venv\u001b[0m\u001b[33m\n",
      "\u001b[0m\n",
      "\u001b[1m[\u001b[0m\u001b[34;49mnotice\u001b[0m\u001b[1;39;49m]\u001b[0m\u001b[39;49m A new release of pip is available: \u001b[0m\u001b[31;49m23.3.1\u001b[0m\u001b[39;49m -> \u001b[0m\u001b[32;49m25.1.1\u001b[0m\n",
      "\u001b[1m[\u001b[0m\u001b[34;49mnotice\u001b[0m\u001b[1;39;49m]\u001b[0m\u001b[39;49m To update, run: \u001b[0m\u001b[32;49mpython -m pip install --upgrade pip\u001b[0m\n"
     ]
    }
   ],
   "source": [
    "!pip install -r requirements.txt"
   ]
  },
  {
   "cell_type": "code",
   "execution_count": 4,
   "id": "f3848e83-46f0-4f86-83c1-0f1eb415de13",
   "metadata": {},
   "outputs": [
    {
     "name": "stdout",
     "output_type": "stream",
     "text": [
      "Requirement already satisfied: torch in /usr/local/lib/python3.10/dist-packages (2.1.0+cu118)\n",
      "Requirement already satisfied: torchvision in /usr/local/lib/python3.10/dist-packages (0.16.0+cu118)\n",
      "Requirement already satisfied: tensorboardX in /usr/local/lib/python3.10/dist-packages (2.6.4)\n",
      "Requirement already satisfied: lmdb in /usr/local/lib/python3.10/dist-packages (1.6.2)\n",
      "Requirement already satisfied: ninja in /usr/local/lib/python3.10/dist-packages (1.11.1.4)\n",
      "Requirement already satisfied: einops in /usr/local/lib/python3.10/dist-packages (0.8.1)\n",
      "Requirement already satisfied: PyWavelets in /usr/local/lib/python3.10/dist-packages (1.8.0)\n",
      "Collecting pytorch_wavelets\n",
      "  Downloading pytorch_wavelets-1.3.0-py3-none-any.whl.metadata (10.0 kB)\n",
      "Requirement already satisfied: filelock in /usr/local/lib/python3.10/dist-packages (from torch) (3.9.0)\n",
      "Requirement already satisfied: typing-extensions in /usr/local/lib/python3.10/dist-packages (from torch) (4.4.0)\n",
      "Requirement already satisfied: sympy in /usr/local/lib/python3.10/dist-packages (from torch) (1.12)\n",
      "Requirement already satisfied: networkx in /usr/local/lib/python3.10/dist-packages (from torch) (3.0)\n",
      "Requirement already satisfied: jinja2 in /usr/local/lib/python3.10/dist-packages (from torch) (3.1.2)\n",
      "Requirement already satisfied: fsspec in /usr/local/lib/python3.10/dist-packages (from torch) (2023.4.0)\n",
      "Requirement already satisfied: triton==2.1.0 in /usr/local/lib/python3.10/dist-packages (from torch) (2.1.0)\n",
      "Requirement already satisfied: numpy in /usr/local/lib/python3.10/dist-packages (from torchvision) (1.24.1)\n",
      "Requirement already satisfied: requests in /usr/local/lib/python3.10/dist-packages (from torchvision) (2.31.0)\n",
      "Requirement already satisfied: pillow!=8.3.*,>=5.3.0 in /usr/local/lib/python3.10/dist-packages (from torchvision) (9.3.0)\n",
      "Requirement already satisfied: packaging in /usr/local/lib/python3.10/dist-packages (from tensorboardX) (23.2)\n",
      "Requirement already satisfied: protobuf>=3.20 in /usr/local/lib/python3.10/dist-packages (from tensorboardX) (6.31.1)\n",
      "Requirement already satisfied: six in /usr/lib/python3/dist-packages (from pytorch_wavelets) (1.16.0)\n",
      "Requirement already satisfied: MarkupSafe>=2.0 in /usr/local/lib/python3.10/dist-packages (from jinja2->torch) (2.1.2)\n",
      "Requirement already satisfied: charset-normalizer<4,>=2 in /usr/local/lib/python3.10/dist-packages (from requests->torchvision) (2.1.1)\n",
      "Requirement already satisfied: idna<4,>=2.5 in /usr/local/lib/python3.10/dist-packages (from requests->torchvision) (3.4)\n",
      "Requirement already satisfied: urllib3<3,>=1.21.1 in /usr/local/lib/python3.10/dist-packages (from requests->torchvision) (1.26.13)\n",
      "Requirement already satisfied: certifi>=2017.4.17 in /usr/local/lib/python3.10/dist-packages (from requests->torchvision) (2022.12.7)\n",
      "Requirement already satisfied: mpmath>=0.19 in /usr/local/lib/python3.10/dist-packages (from sympy->torch) (1.3.0)\n",
      "Downloading pytorch_wavelets-1.3.0-py3-none-any.whl (54 kB)\n",
      "\u001b[2K   \u001b[90m━━━━━━━━━━━━━━━━━━━━━━━━━━━━━━━━━━━━━━━━\u001b[0m \u001b[32m54.9/54.9 kB\u001b[0m \u001b[31m2.8 MB/s\u001b[0m eta \u001b[36m0:00:00\u001b[0m\n",
      "\u001b[?25hInstalling collected packages: pytorch_wavelets\n",
      "Successfully installed pytorch_wavelets-1.3.0\n",
      "\u001b[33mWARNING: Running pip as the 'root' user can result in broken permissions and conflicting behaviour with the system package manager. It is recommended to use a virtual environment instead: https://pip.pypa.io/warnings/venv\u001b[0m\u001b[33m\n",
      "\u001b[0m\n",
      "\u001b[1m[\u001b[0m\u001b[34;49mnotice\u001b[0m\u001b[1;39;49m]\u001b[0m\u001b[39;49m A new release of pip is available: \u001b[0m\u001b[31;49m23.3.1\u001b[0m\u001b[39;49m -> \u001b[0m\u001b[32;49m25.1.1\u001b[0m\n",
      "\u001b[1m[\u001b[0m\u001b[34;49mnotice\u001b[0m\u001b[1;39;49m]\u001b[0m\u001b[39;49m To update, run: \u001b[0m\u001b[32;49mpython -m pip install --upgrade pip\u001b[0m\n"
     ]
    }
   ],
   "source": [
    "!pip install torch torchvision tensorboardX lmdb ninja einops PyWavelets pytorch_wavelets"
   ]
  },
  {
   "cell_type": "code",
   "execution_count": 9,
   "id": "b8713c50-6133-4776-9d96-e9bbf0d60d72",
   "metadata": {},
   "outputs": [
    {
     "name": "stdout",
     "output_type": "stream",
     "text": [
      "MASTER_PORT=6036\n",
      "The work dir is:  /workspace/WaveDiff\n",
      "celeba_512 test 1\n",
      "==> Testing WaveDiff\n",
      "256 [1, 1, 2, 2, 4, 4] [16]\n",
      "GEN: <class 'score_sde.models.ncsnpp_generator_adagn.WaveletNCSNpp'>\n",
      "Inference time: 1804.96+/-8.68ms\n"
     ]
    }
   ],
   "source": [
    "!bash run.sh celeba_512 test 1"
   ]
  },
  {
   "cell_type": "code",
   "execution_count": 11,
   "id": "9aec2e44-299b-45b5-9137-dd29bfd71066",
   "metadata": {},
   "outputs": [
    {
     "name": "stdout",
     "output_type": "stream",
     "text": [
      "MASTER_PORT=6036\n",
      "The work dir is:  /workspace/WaveDiff\n",
      "celeba_512 test 1\n",
      "==> Testing WaveDiff\n",
      "256 [1, 1, 2, 2, 4, 4] [16]\n",
      "GEN: <class 'score_sde.models.ncsnpp_generator_adagn.WaveletNCSNpp'>\n",
      "['/workspace/WaveDiff/wddgan_generated_samples/celeba_512', './pytorch_fid/cifar10_train_stat.npy']\n",
      "/usr/local/lib/python3.10/dist-packages/torchvision/models/_utils.py:208: UserWarning: The parameter 'pretrained' is deprecated since 0.13 and may be removed in the future, please use 'weights' instead.\n",
      "  warnings.warn(\n",
      "/usr/local/lib/python3.10/dist-packages/torchvision/models/_utils.py:223: UserWarning: Arguments other than a weight enum or `None` for 'weights' are deprecated since 0.13 and may be removed in the future. The current behavior is equivalent to passing `weights=None`.\n",
      "  warnings.warn(msg)\n",
      "FID = 373.7762 (saved to /workspace/WaveDiff/wddgan_generated_samples/celeba_512/fid_results.txt)\n",
      "Saved image grid to: /workspace/WaveDiff/wddgan_generated_samples/celeba_512/samples_celeba_512.jpg\n",
      "Results are saved at samples_celeba_512.jpg\n"
     ]
    }
   ],
   "source": [
    "!bash run.sh celeba_512 test 1 #for 5000"
   ]
  },
  {
   "cell_type": "code",
   "execution_count": 12,
   "id": "5ab7a335-3989-4411-b296-4a62142900bd",
   "metadata": {},
   "outputs": [
    {
     "name": "stdout",
     "output_type": "stream",
     "text": [
      "MASTER_PORT=6036\n",
      "The work dir is:  /workspace/WaveDiff\n",
      "celeba_256 test 1\n",
      "==> Testing WaveDiff\n",
      "128 [1, 2, 2, 2, 4] [16]\n",
      "GEN: <class 'score_sde.models.ncsnpp_generator_adagn.WaveletNCSNpp'>\n",
      "['/workspace/WaveDiff/wddgan_generated_samples/celeba_256', 'pytorch_fid/celebahq_stat.npy']\n",
      "/usr/local/lib/python3.10/dist-packages/torchvision/models/_utils.py:208: UserWarning: The parameter 'pretrained' is deprecated since 0.13 and may be removed in the future, please use 'weights' instead.\n",
      "  warnings.warn(\n",
      "/usr/local/lib/python3.10/dist-packages/torchvision/models/_utils.py:223: UserWarning: Arguments other than a weight enum or `None` for 'weights' are deprecated since 0.13 and may be removed in the future. The current behavior is equivalent to passing `weights=None`.\n",
      "  warnings.warn(msg)\n",
      "FID = 5.9878 (saved to /workspace/WaveDiff/wddgan_generated_samples/celeba_256/fid_results.txt)\n",
      "Traceback (most recent call last):\n",
      "  File \"/workspace/WaveDiff/test_wddgan.py\", line 302, in <module>\n",
      "    sample_and_test(args)\n",
      "  File \"/workspace/WaveDiff/test_wddgan.py\", line 184, in sample_and_test\n",
      "    torchvision.utils.save_image(fake_sample, grid_output_path, nrow=8, padding=0)\n",
      "UnboundLocalError: local variable 'fake_sample' referenced before assignment\n"
     ]
    }
   ],
   "source": [
    "!bash run.sh celeba_256 test 1 # for 100"
   ]
  },
  {
   "cell_type": "code",
   "execution_count": 13,
   "id": "22288bc6-3124-4a8f-95c5-5e5bfcae5965",
   "metadata": {},
   "outputs": [
    {
     "name": "stdout",
     "output_type": "stream",
     "text": [
      "MASTER_PORT=6036\n",
      "The work dir is:  /workspace/WaveDiff\n",
      "celeba_256 test 1\n",
      "==> Testing WaveDiff\n",
      "128 [1, 2, 2, 2, 4] [16]\n",
      "GEN: <class 'score_sde.models.ncsnpp_generator_adagn.WaveletNCSNpp'>\n",
      "['/workspace/WaveDiff/wddgan_generated_samples/celeba_256', 'pytorch_fid/celebahq_stat.npy']\n",
      "/usr/local/lib/python3.10/dist-packages/torchvision/models/_utils.py:208: UserWarning: The parameter 'pretrained' is deprecated since 0.13 and may be removed in the future, please use 'weights' instead.\n",
      "  warnings.warn(\n",
      "/usr/local/lib/python3.10/dist-packages/torchvision/models/_utils.py:223: UserWarning: Arguments other than a weight enum or `None` for 'weights' are deprecated since 0.13 and may be removed in the future. The current behavior is equivalent to passing `weights=None`.\n",
      "  warnings.warn(msg)\n",
      "FID = 5.9878 (saved to /workspace/WaveDiff/wddgan_generated_samples/celeba_256/fid_results.txt)\n",
      "Saved image grid to: /workspace/WaveDiff/wddgan_generated_samples/celeba_256/samples_celeba_256.jpg\n",
      "Results are saved at samples_celeba_256.jpg\n"
     ]
    }
   ],
   "source": [
    "!bash run.sh celeba_256 test 1 # for 200"
   ]
  },
  {
   "cell_type": "code",
   "execution_count": 15,
   "id": "e38ebe19-2632-4935-b807-568c5e8b8f56",
   "metadata": {},
   "outputs": [
    {
     "name": "stdout",
     "output_type": "stream",
     "text": [
      "MASTER_PORT=6036\n",
      "The work dir is:  /workspace/WaveDiff\n",
      "lsun test 1\n",
      "==> Testing WaveDiff\n",
      "128 [1, 2, 2, 2, 4] [16]\n",
      "GEN: <class 'score_sde.models.ncsnpp_generator_adagn.WaveletNCSNpp'>\n",
      "['/workspace/WaveDiff/wddgan_generated_samples/lsun', 'pytorch_fid/lsun_church_stat.npy']\n",
      "/usr/local/lib/python3.10/dist-packages/torchvision/models/_utils.py:208: UserWarning: The parameter 'pretrained' is deprecated since 0.13 and may be removed in the future, please use 'weights' instead.\n",
      "  warnings.warn(\n",
      "/usr/local/lib/python3.10/dist-packages/torchvision/models/_utils.py:223: UserWarning: Arguments other than a weight enum or `None` for 'weights' are deprecated since 0.13 and may be removed in the future. The current behavior is equivalent to passing `weights=None`.\n",
      "  warnings.warn(msg)\n",
      "FID = 43.4007 (saved to /workspace/WaveDiff/wddgan_generated_samples/lsun/fid_results.txt)\n",
      "Saved image grid to: /workspace/WaveDiff/wddgan_generated_samples/lsun/samples_lsun.jpg\n",
      "Results are saved at samples_lsun.jpg\n"
     ]
    }
   ],
   "source": [
    "!bash run.sh lsun test 1 # for 200"
   ]
  },
  {
   "cell_type": "code",
   "execution_count": 16,
   "id": "14590e6e-1b0b-44b1-9f7c-cfef33b90c2c",
   "metadata": {},
   "outputs": [
    {
     "name": "stdout",
     "output_type": "stream",
     "text": [
      "MASTER_PORT=6036\n",
      "The work dir is:  /workspace/WaveDiff\n",
      "lsun test 1\n",
      "==> Testing WaveDiff\n",
      "128 [1, 2, 2, 2, 4] [16]\n",
      "GEN: <class 'score_sde.models.ncsnpp_generator_adagn.WaveletNCSNpp'>\n",
      "['/workspace/WaveDiff/wddgan_generated_samples/lsun', 'pytorch_fid/lsun_church_stat.npy']\n",
      "/usr/local/lib/python3.10/dist-packages/torchvision/models/_utils.py:208: UserWarning: The parameter 'pretrained' is deprecated since 0.13 and may be removed in the future, please use 'weights' instead.\n",
      "  warnings.warn(\n",
      "/usr/local/lib/python3.10/dist-packages/torchvision/models/_utils.py:223: UserWarning: Arguments other than a weight enum or `None` for 'weights' are deprecated since 0.13 and may be removed in the future. The current behavior is equivalent to passing `weights=None`.\n",
      "  warnings.warn(msg)\n",
      "FID = 17.2905 (saved to /workspace/WaveDiff/wddgan_generated_samples/lsun/fid_results.txt)\n",
      "Saved image grid to: /workspace/WaveDiff/wddgan_generated_samples/lsun/samples_lsun.jpg\n",
      "Results are saved at samples_lsun.jpg\n"
     ]
    }
   ],
   "source": [
    "!bash run.sh lsun test 1 # for 1000"
   ]
  },
  {
   "cell_type": "code",
   "execution_count": 17,
   "id": "0139b26a-ede5-4d42-90dd-6924ef79e6fb",
   "metadata": {},
   "outputs": [
    {
     "name": "stdout",
     "output_type": "stream",
     "text": [
      "MASTER_PORT=6036\n",
      "The work dir is:  /workspace/WaveDiff\n",
      "lsun test 1\n",
      "==> Testing WaveDiff\n",
      "128 [1, 2, 2, 2, 4] [16]\n",
      "GEN: <class 'score_sde.models.ncsnpp_generator_adagn.WaveletNCSNpp'>\n",
      "^C\n",
      "Traceback (most recent call last):\n",
      "  File \"/workspace/WaveDiff/test_wddgan.py\", line 302, in <module>\n",
      "    sample_and_test(args)\n",
      "  File \"/workspace/WaveDiff/test_wddgan.py\", line 167, in sample_and_test\n",
      "    torchvision.utils.save_image(\n",
      "  File \"/usr/local/lib/python3.10/dist-packages/torch/utils/_contextlib.py\", line 115, in decorate_context\n",
      "    return func(*args, **kwargs)\n",
      "  File \"/usr/local/lib/python3.10/dist-packages/torchvision/utils.py\", line 148, in save_image\n",
      "    ndarr = grid.mul(255).add_(0.5).clamp_(0, 255).permute(1, 2, 0).to(\"cpu\", torch.uint8).numpy()\n",
      "KeyboardInterrupt\n"
     ]
    }
   ],
   "source": [
    "!bash run.sh lsun test 1 # for 50000"
   ]
  },
  {
   "cell_type": "code",
   "execution_count": null,
   "id": "c6f517d8-419a-423d-a421-ef7119889f3c",
   "metadata": {},
   "outputs": [],
   "source": [
    "!bash run.sh celeba_512 test 1"
   ]
  },
  {
   "cell_type": "code",
   "execution_count": 19,
   "id": "f5f775fb-da9b-4b2d-8623-fbcea3c3a237",
   "metadata": {},
   "outputs": [
    {
     "name": "stdout",
     "output_type": "stream",
     "text": [
      "MASTER_PORT=6036\n",
      "The work dir is:  /workspace/WaveDiff\n",
      "stl10 test 1\n",
      "==> Testing WaveDiff\n",
      "32 [1, 2, 2, 2] [16]\n",
      "GEN: <class 'score_sde.models.ncsnpp_generator_adagn.WaveletNCSNpp'>\n",
      "['/workspace/WaveDiff/wddgan_generated_samples/stl10', './pytorch_fid/cifar10_train_stat.npy']\n",
      "/usr/local/lib/python3.10/dist-packages/torchvision/models/_utils.py:208: UserWarning: The parameter 'pretrained' is deprecated since 0.13 and may be removed in the future, please use 'weights' instead.\n",
      "  warnings.warn(\n",
      "/usr/local/lib/python3.10/dist-packages/torchvision/models/_utils.py:223: UserWarning: Arguments other than a weight enum or `None` for 'weights' are deprecated since 0.13 and may be removed in the future. The current behavior is equivalent to passing `weights=None`.\n",
      "  warnings.warn(msg)\n",
      "FID = 47.6833 (saved to /workspace/WaveDiff/wddgan_generated_samples/stl10/fid_results.txt)\n",
      "Saved image grid to: /workspace/WaveDiff/wddgan_generated_samples/stl10/samples_stl10.jpg\n",
      "Results are saved at samples_stl10.jpg\n"
     ]
    }
   ],
   "source": [
    "!bash run.sh stl10 test 1 "
   ]
  },
  {
   "cell_type": "code",
   "execution_count": 22,
   "id": "b7df1d16-8c2d-4620-88cc-ddb38dcd7942",
   "metadata": {},
   "outputs": [],
   "source": [
    "!git add . ':!netG_350.pth' ':!netG_600.pth' ':!netG_400.pth' ':!netG_475.pth'"
   ]
  },
  {
   "cell_type": "code",
   "execution_count": 23,
   "id": "510bcfc0-ad06-411b-a224-c81878bf31d0",
   "metadata": {},
   "outputs": [],
   "source": [
    "!git add -f samples_celeba_256.jpg samples_celeba_512.jpg samples_lsun.jpg samples_stl10.jpg"
   ]
  },
  {
   "cell_type": "code",
   "execution_count": 24,
   "id": "df083cd9-d635-41db-9f0f-bc3f02166f14",
   "metadata": {},
   "outputs": [
    {
     "name": "stdout",
     "output_type": "stream",
     "text": [
      "On branch main\n",
      "Your branch is up to date with 'origin/main'.\n",
      "\n",
      "Changes to be committed:\n",
      "  (use \"git restore --staged <file>...\" to unstage)\n",
      "\t\u001b[32mnew file:   .ipynb_checkpoints/Untitled-checkpoint.ipynb\u001b[m\n",
      "\t\u001b[32mmodified:   .ipynb_checkpoints/test_wddgan-checkpoint.py\u001b[m\n",
      "\t\u001b[32mnew file:   Untitled.ipynb\u001b[m\n",
      "\t\u001b[32mnew file:   samples_celeba_256.jpg\u001b[m\n",
      "\t\u001b[32mnew file:   samples_celeba_512.jpg\u001b[m\n",
      "\t\u001b[32mnew file:   samples_lsun.jpg\u001b[m\n",
      "\t\u001b[32mmodified:   test_wddgan.py\u001b[m\n",
      "\t\u001b[32mnew file:   wddgan_generated_samples/celeba_256/fid_results.txt\u001b[m\n",
      "\t\u001b[32mnew file:   wddgan_generated_samples/celeba_512/fid_results.txt\u001b[m\n",
      "\t\u001b[32mnew file:   wddgan_generated_samples/celeba_512/timing_results.txt\u001b[m\n",
      "\t\u001b[32mnew file:   wddgan_generated_samples/lsun/fid_results.txt\u001b[m\n",
      "\n",
      "Untracked files:\n",
      "  (use \"git add <file>...\" to include in what will be committed)\n",
      "\t\u001b[31mnetG_350.pth\u001b[m\n",
      "\t\u001b[31mnetG_400.pth\u001b[m\n",
      "\t\u001b[31mnetG_475.pth\u001b[m\n",
      "\t\u001b[31mnetG_600.pth\u001b[m\n",
      "\n"
     ]
    }
   ],
   "source": [
    "!git status"
   ]
  },
  {
   "cell_type": "code",
   "execution_count": 25,
   "id": "9d67e70c-8f75-4a9d-8474-71ef419a9439",
   "metadata": {},
   "outputs": [
    {
     "name": "stdout",
     "output_type": "stream",
     "text": [
      "Author identity unknown\n",
      "\n",
      "*** Please tell me who you are.\n",
      "\n",
      "Run\n",
      "\n",
      "  git config --global user.email \"you@example.com\"\n",
      "  git config --global user.name \"Your Name\"\n",
      "\n",
      "to set your account's default identity.\n",
      "Omit --global to set the identity only in this repository.\n",
      "\n",
      "fatal: unable to auto-detect email address (got 'root@fd1d3f2dad88.(none)')\n"
     ]
    }
   ],
   "source": [
    "!git commit -m \"Got results for celeba256 celeba512 lsun\""
   ]
  },
  {
   "cell_type": "code",
   "execution_count": 26,
   "id": "3f4910c2-6d9e-4fe0-9c05-f2c58115d6ff",
   "metadata": {},
   "outputs": [],
   "source": [
    "!git config --global user.name \"niia21\"\n",
    "!git config --global user.email \"kseniia.tulei@gmail.com\"\n"
   ]
  },
  {
   "cell_type": "code",
   "execution_count": 27,
   "id": "d04b8ca5-58e0-4adb-b6b2-261332b40ef7",
   "metadata": {},
   "outputs": [
    {
     "name": "stdout",
     "output_type": "stream",
     "text": [
      "[main 41a5300] Got results for celeba256 celeba512 lsun\n",
      " 11 files changed, 528 insertions(+), 2 deletions(-)\n",
      " create mode 100644 .ipynb_checkpoints/Untitled-checkpoint.ipynb\n",
      " create mode 100644 Untitled.ipynb\n",
      " create mode 100644 samples_celeba_256.jpg\n",
      " create mode 100644 samples_celeba_512.jpg\n",
      " create mode 100644 samples_lsun.jpg\n",
      " create mode 100644 wddgan_generated_samples/celeba_256/fid_results.txt\n",
      " create mode 100644 wddgan_generated_samples/celeba_512/fid_results.txt\n",
      " create mode 100644 wddgan_generated_samples/celeba_512/timing_results.txt\n",
      " create mode 100644 wddgan_generated_samples/lsun/fid_results.txt\n"
     ]
    }
   ],
   "source": [
    "!git commit -m \"Got results for celeba256 celeba512 lsun\""
   ]
  },
  {
   "cell_type": "code",
   "execution_count": null,
   "id": "21055a30-c877-4e7a-8bc1-c89ce9448944",
   "metadata": {},
   "outputs": [
    {
     "name": "stdout",
     "output_type": "stream",
     "text": [
      "Username for 'https://github.com': "
     ]
    }
   ],
   "source": [
    "!git push origin main"
   ]
  },
  {
   "cell_type": "code",
   "execution_count": null,
   "id": "6f366edd-0663-4b0b-8941-b71875246116",
   "metadata": {},
   "outputs": [],
   "source": []
  }
 ],
 "metadata": {
  "kernelspec": {
   "display_name": "Python 3 (ipykernel)",
   "language": "python",
   "name": "python3"
  },
  "language_info": {
   "codemirror_mode": {
    "name": "ipython",
    "version": 3
   },
   "file_extension": ".py",
   "mimetype": "text/x-python",
   "name": "python",
   "nbconvert_exporter": "python",
   "pygments_lexer": "ipython3",
   "version": "3.10.12"
  }
 },
 "nbformat": 4,
 "nbformat_minor": 5
}
